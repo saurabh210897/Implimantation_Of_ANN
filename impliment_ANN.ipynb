{
 "cells": [
  {
   "cell_type": "markdown",
   "id": "77e442b6-aeb4-4ff1-af26-becde5f25e5f",
   "metadata": {},
   "source": [
    "Q1. Install and load the latest versions of TensorFlow and Keras. Print their versions.\n",
    "\n",
    "Q2. Load the Wine Quality dataset and explore its dimensions. \n",
    "\n",
    "Dataset link: https://www.kaggle.com/datasets/nareshbhat/wine-quality-binary-classification\n",
    "Q3. Check for null values, identify categorical variables, and encode them.\n",
    "\n",
    "Q4. Separate the features and target variables from the dataset.\n",
    "\n",
    "Q5. Perform a train-test split, dividing the data into training, validation, and test datasets.\n",
    "\n",
    "Q6. Scale the dataset using an appropriate scaling technique.\n",
    "\n",
    "Q7. Design and implement at least two hidden layers and an output layer for the binary categorical \n",
    "variables.\n",
    "\n",
    "Q8. Create a Sequential model in Keras and add the previously designed layers to it.\n",
    "\n",
    "Q9. Print the summary of the model architecture.\n",
    "\n",
    "Q10. Set the loss function(‘binary_crossentropy’), optimizer, and include the accuracy metric in the model.\n",
    "\n",
    "Q11. Compile the model with the specified loss function, optimizer, and metrics.\n",
    "\n",
    "Q12. Fit the model to the training data using appropriate batch size and number of epochs.\n",
    "\n",
    "Q13. Obtain the model's parameters (weights and biases).\n",
    "\n",
    "Q14. Store the model's training history as a Pandas DataFrame.\n",
    "\n",
    "Q15. Plot the training history (e.g., accuracy and loss) using suitable visualization techniques.\n",
    "\n",
    "Q16. Evaluate the model's performance using the test dataset and report relevant metrics."
   ]
  },
  {
   "cell_type": "code",
   "execution_count": 1,
   "id": "2db1c100-be0c-42c1-afb2-df962ea615f8",
   "metadata": {},
   "outputs": [
    {
     "name": "stdout",
     "output_type": "stream",
     "text": [
      "Collecting tensorflow\n",
      "  Downloading tensorflow-2.13.0-cp310-cp310-manylinux_2_17_x86_64.manylinux2014_x86_64.whl (524.1 MB)\n",
      "\u001b[2K     \u001b[90m━━━━━━━━━━━━━━━━━━━━━━━━━━━━━━━━━━━━━━━\u001b[0m \u001b[32m524.1/524.1 MB\u001b[0m \u001b[31m2.5 MB/s\u001b[0m eta \u001b[36m0:00:00\u001b[0m00:01\u001b[0m00:01\u001b[0m\n",
      "\u001b[?25hRequirement already satisfied: typing-extensions<4.6.0,>=3.6.6 in /opt/conda/lib/python3.10/site-packages (from tensorflow) (4.4.0)\n",
      "Collecting grpcio<2.0,>=1.24.3\n",
      "  Downloading grpcio-1.58.0-cp310-cp310-manylinux_2_17_x86_64.manylinux2014_x86_64.whl (5.3 MB)\n",
      "\u001b[2K     \u001b[90m━━━━━━━━━━━━━━━━━━━━━━━━━━━━━━━━━━━━━━━━\u001b[0m \u001b[32m5.3/5.3 MB\u001b[0m \u001b[31m79.0 MB/s\u001b[0m eta \u001b[36m0:00:00\u001b[0mta \u001b[36m0:00:01\u001b[0m\n",
      "\u001b[?25hRequirement already satisfied: setuptools in /opt/conda/lib/python3.10/site-packages (from tensorflow) (65.5.1)\n",
      "Requirement already satisfied: h5py>=2.9.0 in /opt/conda/lib/python3.10/site-packages (from tensorflow) (3.7.0)\n",
      "Requirement already satisfied: numpy<=1.24.3,>=1.22 in /opt/conda/lib/python3.10/site-packages (from tensorflow) (1.23.5)\n",
      "Requirement already satisfied: six>=1.12.0 in /opt/conda/lib/python3.10/site-packages (from tensorflow) (1.16.0)\n",
      "Collecting keras<2.14,>=2.13.1\n",
      "  Downloading keras-2.13.1-py3-none-any.whl (1.7 MB)\n",
      "\u001b[2K     \u001b[90m━━━━━━━━━━━━━━━━━━━━━━━━━━━━━━━━━━━━━━━━\u001b[0m \u001b[32m1.7/1.7 MB\u001b[0m \u001b[31m75.9 MB/s\u001b[0m eta \u001b[36m0:00:00\u001b[0m\n",
      "\u001b[?25hCollecting libclang>=13.0.0\n",
      "  Downloading libclang-16.0.6-py2.py3-none-manylinux2010_x86_64.whl (22.9 MB)\n",
      "\u001b[2K     \u001b[90m━━━━━━━━━━━━━━━━━━━━━━━━━━━━━━━━━━━━━━━━\u001b[0m \u001b[32m22.9/22.9 MB\u001b[0m \u001b[31m56.8 MB/s\u001b[0m eta \u001b[36m0:00:00\u001b[0m00:01\u001b[0m00:01\u001b[0m\n",
      "\u001b[?25hRequirement already satisfied: packaging in /opt/conda/lib/python3.10/site-packages (from tensorflow) (22.0)\n",
      "Collecting tensorflow-io-gcs-filesystem>=0.23.1\n",
      "  Downloading tensorflow_io_gcs_filesystem-0.34.0-cp310-cp310-manylinux_2_12_x86_64.manylinux2010_x86_64.whl (2.4 MB)\n",
      "\u001b[2K     \u001b[90m━━━━━━━━━━━━━━━━━━━━━━━━━━━━━━━━━━━━━━━━\u001b[0m \u001b[32m2.4/2.4 MB\u001b[0m \u001b[31m74.5 MB/s\u001b[0m eta \u001b[36m0:00:00\u001b[0m\n",
      "\u001b[?25hCollecting tensorflow-estimator<2.14,>=2.13.0\n",
      "  Downloading tensorflow_estimator-2.13.0-py2.py3-none-any.whl (440 kB)\n",
      "\u001b[2K     \u001b[90m━━━━━━━━━━━━━━━━━━━━━━━━━━━━━━━━━━━━━━\u001b[0m \u001b[32m440.8/440.8 kB\u001b[0m \u001b[31m47.1 MB/s\u001b[0m eta \u001b[36m0:00:00\u001b[0m\n",
      "\u001b[?25hCollecting termcolor>=1.1.0\n",
      "  Downloading termcolor-2.3.0-py3-none-any.whl (6.9 kB)\n",
      "Collecting tensorboard<2.14,>=2.13\n",
      "  Downloading tensorboard-2.13.0-py3-none-any.whl (5.6 MB)\n",
      "\u001b[2K     \u001b[90m━━━━━━━━━━━━━━━━━━━━━━━━━━━━━━━━━━━━━━━━\u001b[0m \u001b[32m5.6/5.6 MB\u001b[0m \u001b[31m70.3 MB/s\u001b[0m eta \u001b[36m0:00:00\u001b[0m00:01\u001b[0m00:01\u001b[0m\n",
      "\u001b[?25hCollecting wrapt>=1.11.0\n",
      "  Downloading wrapt-1.15.0-cp310-cp310-manylinux_2_5_x86_64.manylinux1_x86_64.manylinux_2_17_x86_64.manylinux2014_x86_64.whl (78 kB)\n",
      "\u001b[2K     \u001b[90m━━━━━━━━━━━━━━━━━━━━━━━━━━━━━━━━━━━━━━━━\u001b[0m \u001b[32m78.4/78.4 kB\u001b[0m \u001b[31m16.2 MB/s\u001b[0m eta \u001b[36m0:00:00\u001b[0m\n",
      "\u001b[?25hCollecting absl-py>=1.0.0\n",
      "  Downloading absl_py-1.4.0-py3-none-any.whl (126 kB)\n",
      "\u001b[2K     \u001b[90m━━━━━━━━━━━━━━━━━━━━━━━━━━━━━━━━━━━━━━\u001b[0m \u001b[32m126.5/126.5 kB\u001b[0m \u001b[31m22.9 MB/s\u001b[0m eta \u001b[36m0:00:00\u001b[0m\n",
      "\u001b[?25hCollecting astunparse>=1.6.0\n",
      "  Downloading astunparse-1.6.3-py2.py3-none-any.whl (12 kB)\n",
      "Collecting flatbuffers>=23.1.21\n",
      "  Downloading flatbuffers-23.5.26-py2.py3-none-any.whl (26 kB)\n",
      "Collecting gast<=0.4.0,>=0.2.1\n",
      "  Downloading gast-0.4.0-py3-none-any.whl (9.8 kB)\n",
      "Collecting google-pasta>=0.1.1\n",
      "  Downloading google_pasta-0.2.0-py3-none-any.whl (57 kB)\n",
      "\u001b[2K     \u001b[90m━━━━━━━━━━━━━━━━━━━━━━━━━━━━━━━━━━━━━━━━\u001b[0m \u001b[32m57.5/57.5 kB\u001b[0m \u001b[31m10.5 MB/s\u001b[0m eta \u001b[36m0:00:00\u001b[0m\n",
      "\u001b[?25hRequirement already satisfied: protobuf!=4.21.0,!=4.21.1,!=4.21.2,!=4.21.3,!=4.21.4,!=4.21.5,<5.0.0dev,>=3.20.3 in /opt/conda/lib/python3.10/site-packages (from tensorflow) (4.21.11)\n",
      "Collecting opt-einsum>=2.3.2\n",
      "  Downloading opt_einsum-3.3.0-py3-none-any.whl (65 kB)\n",
      "\u001b[2K     \u001b[90m━━━━━━━━━━━━━━━━━━━━━━━━━━━━━━━━━━━━━━━━\u001b[0m \u001b[32m65.5/65.5 kB\u001b[0m \u001b[31m13.0 MB/s\u001b[0m eta \u001b[36m0:00:00\u001b[0m\n",
      "\u001b[?25hRequirement already satisfied: wheel<1.0,>=0.23.0 in /opt/conda/lib/python3.10/site-packages (from astunparse>=1.6.0->tensorflow) (0.38.4)\n",
      "Requirement already satisfied: requests<3,>=2.21.0 in /opt/conda/lib/python3.10/site-packages (from tensorboard<2.14,>=2.13->tensorflow) (2.28.1)\n",
      "Collecting google-auth<3,>=1.6.3\n",
      "  Downloading google_auth-2.23.0-py2.py3-none-any.whl (181 kB)\n",
      "\u001b[2K     \u001b[90m━━━━━━━━━━━━━━━━━━━━━━━━━━━━━━━━━━━━━━\u001b[0m \u001b[32m181.4/181.4 kB\u001b[0m \u001b[31m29.1 MB/s\u001b[0m eta \u001b[36m0:00:00\u001b[0m\n",
      "\u001b[?25hCollecting markdown>=2.6.8\n",
      "  Downloading Markdown-3.4.4-py3-none-any.whl (94 kB)\n",
      "\u001b[2K     \u001b[90m━━━━━━━━━━━━━━━━━━━━━━━━━━━━━━━━━━━━━━━━\u001b[0m \u001b[32m94.2/94.2 kB\u001b[0m \u001b[31m17.9 MB/s\u001b[0m eta \u001b[36m0:00:00\u001b[0m\n",
      "\u001b[?25hCollecting werkzeug>=1.0.1\n",
      "  Downloading werkzeug-2.3.7-py3-none-any.whl (242 kB)\n",
      "\u001b[2K     \u001b[90m━━━━━━━━━━━━━━━━━━━━━━━━━━━━━━━━━━━━━━\u001b[0m \u001b[32m242.2/242.2 kB\u001b[0m \u001b[31m35.1 MB/s\u001b[0m eta \u001b[36m0:00:00\u001b[0m\n",
      "\u001b[?25hCollecting tensorboard-data-server<0.8.0,>=0.7.0\n",
      "  Downloading tensorboard_data_server-0.7.1-py3-none-manylinux2014_x86_64.whl (6.6 MB)\n",
      "\u001b[2K     \u001b[90m━━━━━━━━━━━━━━━━━━━━━━━━━━━━━━━━━━━━━━━━\u001b[0m \u001b[32m6.6/6.6 MB\u001b[0m \u001b[31m76.4 MB/s\u001b[0m eta \u001b[36m0:00:00\u001b[0m:00:01\u001b[0m0:01\u001b[0m\n",
      "\u001b[?25hCollecting google-auth-oauthlib<1.1,>=0.5\n",
      "  Downloading google_auth_oauthlib-1.0.0-py2.py3-none-any.whl (18 kB)\n",
      "Collecting cachetools<6.0,>=2.0.0\n",
      "  Downloading cachetools-5.3.1-py3-none-any.whl (9.3 kB)\n",
      "Collecting rsa<5,>=3.1.4\n",
      "  Downloading rsa-4.9-py3-none-any.whl (34 kB)\n",
      "Collecting pyasn1-modules>=0.2.1\n",
      "  Downloading pyasn1_modules-0.3.0-py2.py3-none-any.whl (181 kB)\n",
      "\u001b[2K     \u001b[90m━━━━━━━━━━━━━━━━━━━━━━━━━━━━━━━━━━━━━━\u001b[0m \u001b[32m181.3/181.3 kB\u001b[0m \u001b[31m24.7 MB/s\u001b[0m eta \u001b[36m0:00:00\u001b[0m\n",
      "\u001b[?25hRequirement already satisfied: urllib3<2.0 in /opt/conda/lib/python3.10/site-packages (from google-auth<3,>=1.6.3->tensorboard<2.14,>=2.13->tensorflow) (1.26.13)\n",
      "Collecting requests-oauthlib>=0.7.0\n",
      "  Downloading requests_oauthlib-1.3.1-py2.py3-none-any.whl (23 kB)\n",
      "Requirement already satisfied: idna<4,>=2.5 in /opt/conda/lib/python3.10/site-packages (from requests<3,>=2.21.0->tensorboard<2.14,>=2.13->tensorflow) (3.4)\n",
      "Requirement already satisfied: charset-normalizer<3,>=2 in /opt/conda/lib/python3.10/site-packages (from requests<3,>=2.21.0->tensorboard<2.14,>=2.13->tensorflow) (2.1.1)\n",
      "Requirement already satisfied: certifi>=2017.4.17 in /opt/conda/lib/python3.10/site-packages (from requests<3,>=2.21.0->tensorboard<2.14,>=2.13->tensorflow) (2022.12.7)\n",
      "Requirement already satisfied: MarkupSafe>=2.1.1 in /opt/conda/lib/python3.10/site-packages (from werkzeug>=1.0.1->tensorboard<2.14,>=2.13->tensorflow) (2.1.1)\n",
      "Collecting pyasn1<0.6.0,>=0.4.6\n",
      "  Downloading pyasn1-0.5.0-py2.py3-none-any.whl (83 kB)\n",
      "\u001b[2K     \u001b[90m━━━━━━━━━━━━━━━━━━━━━━━━━━━━━━━━━━━━━━━━\u001b[0m \u001b[32m83.9/83.9 kB\u001b[0m \u001b[31m15.6 MB/s\u001b[0m eta \u001b[36m0:00:00\u001b[0m\n",
      "\u001b[?25hRequirement already satisfied: oauthlib>=3.0.0 in /opt/conda/lib/python3.10/site-packages (from requests-oauthlib>=0.7.0->google-auth-oauthlib<1.1,>=0.5->tensorboard<2.14,>=2.13->tensorflow) (3.2.2)\n",
      "Installing collected packages: libclang, flatbuffers, wrapt, werkzeug, termcolor, tensorflow-io-gcs-filesystem, tensorflow-estimator, tensorboard-data-server, pyasn1, opt-einsum, markdown, keras, grpcio, google-pasta, gast, cachetools, astunparse, absl-py, rsa, requests-oauthlib, pyasn1-modules, google-auth, google-auth-oauthlib, tensorboard, tensorflow\n",
      "Successfully installed absl-py-1.4.0 astunparse-1.6.3 cachetools-5.3.1 flatbuffers-23.5.26 gast-0.4.0 google-auth-2.23.0 google-auth-oauthlib-1.0.0 google-pasta-0.2.0 grpcio-1.58.0 keras-2.13.1 libclang-16.0.6 markdown-3.4.4 opt-einsum-3.3.0 pyasn1-0.5.0 pyasn1-modules-0.3.0 requests-oauthlib-1.3.1 rsa-4.9 tensorboard-2.13.0 tensorboard-data-server-0.7.1 tensorflow-2.13.0 tensorflow-estimator-2.13.0 tensorflow-io-gcs-filesystem-0.34.0 termcolor-2.3.0 werkzeug-2.3.7 wrapt-1.15.0\n",
      "Requirement already satisfied: keras in /opt/conda/lib/python3.10/site-packages (2.13.1)\n"
     ]
    }
   ],
   "source": [
    "# Install the latest versions of TensorFlow and Keras\n",
    "!pip install tensorflow\n",
    "!pip install keras"
   ]
  },
  {
   "cell_type": "code",
   "execution_count": 4,
   "id": "540e6e45-16f8-48b2-aa70-4096f1d4e5f0",
   "metadata": {},
   "outputs": [
    {
     "name": "stdout",
     "output_type": "stream",
     "text": [
      "TensorFlow version: 2.13.0\n",
      "Keras version: 2.13.1\n"
     ]
    }
   ],
   "source": [
    "import tensorflow as tf\n",
    "import keras\n",
    "\n",
    "print(\"TensorFlow version:\", tf.__version__)\n",
    "print(\"Keras version:\", keras.__version__)\n"
   ]
  },
  {
   "cell_type": "code",
   "execution_count": 5,
   "id": "22cce61a-fce5-46df-8890-d3c78f97b119",
   "metadata": {},
   "outputs": [
    {
     "name": "stdout",
     "output_type": "stream",
     "text": [
      "Dataset shape: (1599, 12)\n"
     ]
    }
   ],
   "source": [
    "import pandas as pd\n",
    "\n",
    "# Load the dataset\n",
    "data = pd.read_csv(\"wine.csv\")\n",
    "\n",
    "# Explore dataset dimensions\n",
    "print(\"Dataset shape:\", data.shape)\n"
   ]
  },
  {
   "cell_type": "code",
   "execution_count": 6,
   "id": "df08ee21-bbc4-4179-b310-bfafc475c3f8",
   "metadata": {},
   "outputs": [
    {
     "data": {
      "text/html": [
       "<div>\n",
       "<style scoped>\n",
       "    .dataframe tbody tr th:only-of-type {\n",
       "        vertical-align: middle;\n",
       "    }\n",
       "\n",
       "    .dataframe tbody tr th {\n",
       "        vertical-align: top;\n",
       "    }\n",
       "\n",
       "    .dataframe thead th {\n",
       "        text-align: right;\n",
       "    }\n",
       "</style>\n",
       "<table border=\"1\" class=\"dataframe\">\n",
       "  <thead>\n",
       "    <tr style=\"text-align: right;\">\n",
       "      <th></th>\n",
       "      <th>fixed acidity</th>\n",
       "      <th>volatile acidity</th>\n",
       "      <th>citric acid</th>\n",
       "      <th>residual sugar</th>\n",
       "      <th>chlorides</th>\n",
       "      <th>free sulfur dioxide</th>\n",
       "      <th>total sulfur dioxide</th>\n",
       "      <th>density</th>\n",
       "      <th>pH</th>\n",
       "      <th>sulphates</th>\n",
       "      <th>alcohol</th>\n",
       "      <th>quality</th>\n",
       "    </tr>\n",
       "  </thead>\n",
       "  <tbody>\n",
       "    <tr>\n",
       "      <th>0</th>\n",
       "      <td>7.4</td>\n",
       "      <td>0.700</td>\n",
       "      <td>0.00</td>\n",
       "      <td>1.9</td>\n",
       "      <td>0.076</td>\n",
       "      <td>11.0</td>\n",
       "      <td>34.0</td>\n",
       "      <td>0.99780</td>\n",
       "      <td>3.51</td>\n",
       "      <td>0.56</td>\n",
       "      <td>9.4</td>\n",
       "      <td>bad</td>\n",
       "    </tr>\n",
       "    <tr>\n",
       "      <th>1</th>\n",
       "      <td>7.8</td>\n",
       "      <td>0.880</td>\n",
       "      <td>0.00</td>\n",
       "      <td>2.6</td>\n",
       "      <td>0.098</td>\n",
       "      <td>25.0</td>\n",
       "      <td>67.0</td>\n",
       "      <td>0.99680</td>\n",
       "      <td>3.20</td>\n",
       "      <td>0.68</td>\n",
       "      <td>9.8</td>\n",
       "      <td>bad</td>\n",
       "    </tr>\n",
       "    <tr>\n",
       "      <th>2</th>\n",
       "      <td>7.8</td>\n",
       "      <td>0.760</td>\n",
       "      <td>0.04</td>\n",
       "      <td>2.3</td>\n",
       "      <td>0.092</td>\n",
       "      <td>15.0</td>\n",
       "      <td>54.0</td>\n",
       "      <td>0.99700</td>\n",
       "      <td>3.26</td>\n",
       "      <td>0.65</td>\n",
       "      <td>9.8</td>\n",
       "      <td>bad</td>\n",
       "    </tr>\n",
       "    <tr>\n",
       "      <th>3</th>\n",
       "      <td>11.2</td>\n",
       "      <td>0.280</td>\n",
       "      <td>0.56</td>\n",
       "      <td>1.9</td>\n",
       "      <td>0.075</td>\n",
       "      <td>17.0</td>\n",
       "      <td>60.0</td>\n",
       "      <td>0.99800</td>\n",
       "      <td>3.16</td>\n",
       "      <td>0.58</td>\n",
       "      <td>9.8</td>\n",
       "      <td>good</td>\n",
       "    </tr>\n",
       "    <tr>\n",
       "      <th>4</th>\n",
       "      <td>7.4</td>\n",
       "      <td>0.700</td>\n",
       "      <td>0.00</td>\n",
       "      <td>1.9</td>\n",
       "      <td>0.076</td>\n",
       "      <td>11.0</td>\n",
       "      <td>34.0</td>\n",
       "      <td>0.99780</td>\n",
       "      <td>3.51</td>\n",
       "      <td>0.56</td>\n",
       "      <td>9.4</td>\n",
       "      <td>bad</td>\n",
       "    </tr>\n",
       "    <tr>\n",
       "      <th>...</th>\n",
       "      <td>...</td>\n",
       "      <td>...</td>\n",
       "      <td>...</td>\n",
       "      <td>...</td>\n",
       "      <td>...</td>\n",
       "      <td>...</td>\n",
       "      <td>...</td>\n",
       "      <td>...</td>\n",
       "      <td>...</td>\n",
       "      <td>...</td>\n",
       "      <td>...</td>\n",
       "      <td>...</td>\n",
       "    </tr>\n",
       "    <tr>\n",
       "      <th>1594</th>\n",
       "      <td>6.2</td>\n",
       "      <td>0.600</td>\n",
       "      <td>0.08</td>\n",
       "      <td>2.0</td>\n",
       "      <td>0.090</td>\n",
       "      <td>32.0</td>\n",
       "      <td>44.0</td>\n",
       "      <td>0.99490</td>\n",
       "      <td>3.45</td>\n",
       "      <td>0.58</td>\n",
       "      <td>10.5</td>\n",
       "      <td>bad</td>\n",
       "    </tr>\n",
       "    <tr>\n",
       "      <th>1595</th>\n",
       "      <td>5.9</td>\n",
       "      <td>0.550</td>\n",
       "      <td>0.10</td>\n",
       "      <td>2.2</td>\n",
       "      <td>0.062</td>\n",
       "      <td>39.0</td>\n",
       "      <td>51.0</td>\n",
       "      <td>0.99512</td>\n",
       "      <td>3.52</td>\n",
       "      <td>0.76</td>\n",
       "      <td>11.2</td>\n",
       "      <td>good</td>\n",
       "    </tr>\n",
       "    <tr>\n",
       "      <th>1596</th>\n",
       "      <td>6.3</td>\n",
       "      <td>0.510</td>\n",
       "      <td>0.13</td>\n",
       "      <td>2.3</td>\n",
       "      <td>0.076</td>\n",
       "      <td>29.0</td>\n",
       "      <td>40.0</td>\n",
       "      <td>0.99574</td>\n",
       "      <td>3.42</td>\n",
       "      <td>0.75</td>\n",
       "      <td>11.0</td>\n",
       "      <td>good</td>\n",
       "    </tr>\n",
       "    <tr>\n",
       "      <th>1597</th>\n",
       "      <td>5.9</td>\n",
       "      <td>0.645</td>\n",
       "      <td>0.12</td>\n",
       "      <td>2.0</td>\n",
       "      <td>0.075</td>\n",
       "      <td>32.0</td>\n",
       "      <td>44.0</td>\n",
       "      <td>0.99547</td>\n",
       "      <td>3.57</td>\n",
       "      <td>0.71</td>\n",
       "      <td>10.2</td>\n",
       "      <td>bad</td>\n",
       "    </tr>\n",
       "    <tr>\n",
       "      <th>1598</th>\n",
       "      <td>6.0</td>\n",
       "      <td>0.310</td>\n",
       "      <td>0.47</td>\n",
       "      <td>3.6</td>\n",
       "      <td>0.067</td>\n",
       "      <td>18.0</td>\n",
       "      <td>42.0</td>\n",
       "      <td>0.99549</td>\n",
       "      <td>3.39</td>\n",
       "      <td>0.66</td>\n",
       "      <td>11.0</td>\n",
       "      <td>good</td>\n",
       "    </tr>\n",
       "  </tbody>\n",
       "</table>\n",
       "<p>1599 rows × 12 columns</p>\n",
       "</div>"
      ],
      "text/plain": [
       "      fixed acidity  volatile acidity  citric acid  residual sugar  chlorides  \\\n",
       "0               7.4             0.700         0.00             1.9      0.076   \n",
       "1               7.8             0.880         0.00             2.6      0.098   \n",
       "2               7.8             0.760         0.04             2.3      0.092   \n",
       "3              11.2             0.280         0.56             1.9      0.075   \n",
       "4               7.4             0.700         0.00             1.9      0.076   \n",
       "...             ...               ...          ...             ...        ...   \n",
       "1594            6.2             0.600         0.08             2.0      0.090   \n",
       "1595            5.9             0.550         0.10             2.2      0.062   \n",
       "1596            6.3             0.510         0.13             2.3      0.076   \n",
       "1597            5.9             0.645         0.12             2.0      0.075   \n",
       "1598            6.0             0.310         0.47             3.6      0.067   \n",
       "\n",
       "      free sulfur dioxide  total sulfur dioxide  density    pH  sulphates  \\\n",
       "0                    11.0                  34.0  0.99780  3.51       0.56   \n",
       "1                    25.0                  67.0  0.99680  3.20       0.68   \n",
       "2                    15.0                  54.0  0.99700  3.26       0.65   \n",
       "3                    17.0                  60.0  0.99800  3.16       0.58   \n",
       "4                    11.0                  34.0  0.99780  3.51       0.56   \n",
       "...                   ...                   ...      ...   ...        ...   \n",
       "1594                 32.0                  44.0  0.99490  3.45       0.58   \n",
       "1595                 39.0                  51.0  0.99512  3.52       0.76   \n",
       "1596                 29.0                  40.0  0.99574  3.42       0.75   \n",
       "1597                 32.0                  44.0  0.99547  3.57       0.71   \n",
       "1598                 18.0                  42.0  0.99549  3.39       0.66   \n",
       "\n",
       "      alcohol quality  \n",
       "0         9.4     bad  \n",
       "1         9.8     bad  \n",
       "2         9.8     bad  \n",
       "3         9.8    good  \n",
       "4         9.4     bad  \n",
       "...       ...     ...  \n",
       "1594     10.5     bad  \n",
       "1595     11.2    good  \n",
       "1596     11.0    good  \n",
       "1597     10.2     bad  \n",
       "1598     11.0    good  \n",
       "\n",
       "[1599 rows x 12 columns]"
      ]
     },
     "execution_count": 6,
     "metadata": {},
     "output_type": "execute_result"
    }
   ],
   "source": [
    "data"
   ]
  },
  {
   "cell_type": "code",
   "execution_count": 7,
   "id": "fe9d4e04-861a-474a-b3f0-4f521a2c1881",
   "metadata": {},
   "outputs": [
    {
     "data": {
      "text/plain": [
       "fixed acidity           0\n",
       "volatile acidity        0\n",
       "citric acid             0\n",
       "residual sugar          0\n",
       "chlorides               0\n",
       "free sulfur dioxide     0\n",
       "total sulfur dioxide    0\n",
       "density                 0\n",
       "pH                      0\n",
       "sulphates               0\n",
       "alcohol                 0\n",
       "quality                 0\n",
       "dtype: int64"
      ]
     },
     "execution_count": 7,
     "metadata": {},
     "output_type": "execute_result"
    }
   ],
   "source": [
    "# Check for null values\n",
    "data.isnull().sum()"
   ]
  },
  {
   "cell_type": "markdown",
   "id": "a21f2abd-c10f-4c1f-8ef0-22a6b33dc899",
   "metadata": {},
   "source": [
    "# there is not any null value in this dataset"
   ]
  },
  {
   "cell_type": "code",
   "execution_count": 8,
   "id": "ffbb147b-ffed-4e08-83f7-14422fee26a2",
   "metadata": {},
   "outputs": [
    {
     "name": "stdout",
     "output_type": "stream",
     "text": [
      "<class 'pandas.core.frame.DataFrame'>\n",
      "RangeIndex: 1599 entries, 0 to 1598\n",
      "Data columns (total 12 columns):\n",
      " #   Column                Non-Null Count  Dtype  \n",
      "---  ------                --------------  -----  \n",
      " 0   fixed acidity         1599 non-null   float64\n",
      " 1   volatile acidity      1599 non-null   float64\n",
      " 2   citric acid           1599 non-null   float64\n",
      " 3   residual sugar        1599 non-null   float64\n",
      " 4   chlorides             1599 non-null   float64\n",
      " 5   free sulfur dioxide   1599 non-null   float64\n",
      " 6   total sulfur dioxide  1599 non-null   float64\n",
      " 7   density               1599 non-null   float64\n",
      " 8   pH                    1599 non-null   float64\n",
      " 9   sulphates             1599 non-null   float64\n",
      " 10  alcohol               1599 non-null   float64\n",
      " 11  quality               1599 non-null   object \n",
      "dtypes: float64(11), object(1)\n",
      "memory usage: 150.0+ KB\n",
      "None\n"
     ]
    }
   ],
   "source": [
    "print(data.info())\n",
    "\n",
    "# Encode categorical variables (if any)\n",
    "# Example: data_encoded = pd.get_dummies(data, columns=[\"categorical_column\"])"
   ]
  },
  {
   "cell_type": "code",
   "execution_count": 9,
   "id": "6878c998-2019-47e2-b598-ef632d4f3ecf",
   "metadata": {},
   "outputs": [],
   "source": [
    "# Encode categorical variables \n",
    "from sklearn.preprocessing import LabelEncoder\n",
    "\n",
    "label_encoder = LabelEncoder()\n",
    "data['quality'] = label_encoder.fit_transform(data['quality'])\n"
   ]
  },
  {
   "cell_type": "code",
   "execution_count": 10,
   "id": "ebb5b6db-fbaf-4698-b019-5c735f6e3f91",
   "metadata": {},
   "outputs": [],
   "source": [
    "# Separate features (X) and target variable (y)\n",
    "X = data.drop(\"quality\", axis=1)\n",
    "y = data[\"quality\"]\n"
   ]
  },
  {
   "cell_type": "code",
   "execution_count": 11,
   "id": "ad9c8e92-a63a-4b07-be9a-f8447b0ab6d8",
   "metadata": {},
   "outputs": [],
   "source": [
    "from sklearn.model_selection import train_test_split\n",
    "\n",
    "# Split the data into training and test sets\n",
    "X_train, X_test, y_train, y_test = train_test_split(X, y, test_size=0.2, random_state=42)\n",
    "\n"
   ]
  },
  {
   "cell_type": "code",
   "execution_count": 12,
   "id": "1c68093d-ea59-49ec-b456-d9bbafc04061",
   "metadata": {},
   "outputs": [],
   "source": [
    "from sklearn.preprocessing import StandardScaler\n",
    "\n",
    "scaler = StandardScaler()\n",
    "\n",
    "# Fit the scaler on the training data\n",
    "X_train_scaled = scaler.fit_transform(X_train)\n",
    "\n",
    "# Transform the test data using the same scaler\n",
    "X_test_scaled = scaler.transform(X_test)\n"
   ]
  },
  {
   "cell_type": "code",
   "execution_count": 13,
   "id": "f915ba1c-ad63-4497-99f1-d73afb01ed84",
   "metadata": {},
   "outputs": [
    {
     "data": {
      "text/plain": [
       "array([0, 1])"
      ]
     },
     "execution_count": 13,
     "metadata": {},
     "output_type": "execute_result"
    }
   ],
   "source": [
    "data['quality'].unique()"
   ]
  },
  {
   "cell_type": "code",
   "execution_count": 14,
   "id": "3aefe2dc-41e1-48af-87ca-e95319257f6e",
   "metadata": {},
   "outputs": [
    {
     "data": {
      "text/plain": [
       "(1279, 11)"
      ]
     },
     "execution_count": 14,
     "metadata": {},
     "output_type": "execute_result"
    }
   ],
   "source": [
    "X_train.shape"
   ]
  },
  {
   "cell_type": "code",
   "execution_count": 15,
   "id": "71d998ff-3c35-4bd4-892b-9674c1000e54",
   "metadata": {},
   "outputs": [],
   "source": [
    "#  Design and Implement Neural Network Layers\n",
    "from keras.models import Sequential\n",
    "from keras.layers import Dense\n",
    "\n",
    "model = Sequential()\n",
    "\n",
    "# Add hidden layers (e.g., 2 hidden layers with 64 units and ReLU activation)\n",
    "model.add(Dense(11, activation='relu'))\n",
    "model.add(Dense(7, activation='relu'))\n",
    "\n",
    "# Add output layer (e.g., for binary classification)\n",
    "model.add(Dense(1, activation='sigmoid'))\n"
   ]
  },
  {
   "cell_type": "code",
   "execution_count": 20,
   "id": "9b5ae36d-3189-4688-9925-f5e83bff2d7a",
   "metadata": {},
   "outputs": [
    {
     "name": "stdout",
     "output_type": "stream",
     "text": [
      "Model: \"sequential\"\n",
      "_________________________________________________________________\n",
      " Layer (type)                Output Shape              Param #   \n",
      "=================================================================\n",
      " dense (Dense)               (None, 11)                132       \n",
      "                                                                 \n",
      " dense_1 (Dense)             (None, 7)                 84        \n",
      "                                                                 \n",
      " dense_2 (Dense)             (None, 1)                 8         \n",
      "                                                                 \n",
      "=================================================================\n",
      "Total params: 224 (896.00 Byte)\n",
      "Trainable params: 224 (896.00 Byte)\n",
      "Non-trainable params: 0 (0.00 Byte)\n",
      "_________________________________________________________________\n"
     ]
    }
   ],
   "source": [
    "model.summary()\n"
   ]
  },
  {
   "cell_type": "code",
   "execution_count": 16,
   "id": "91f9ba8c-ed6a-42f9-8a68-2e94607b1df0",
   "metadata": {},
   "outputs": [],
   "source": [
    "model.compile(optimizer='adam', loss='binary_crossentropy', metrics=['accuracy'])\n"
   ]
  },
  {
   "cell_type": "code",
   "execution_count": 17,
   "id": "fcd35f27-b774-47dc-8fcb-0327e2ba4704",
   "metadata": {},
   "outputs": [
    {
     "name": "stdout",
     "output_type": "stream",
     "text": [
      "Epoch 1/50\n"
     ]
    },
    {
     "name": "stderr",
     "output_type": "stream",
     "text": [
      "/opt/conda/lib/python3.10/site-packages/keras/src/engine/data_adapter.py:1798: FutureWarning: The behavior of `series[i:j]` with an integer-dtype index is deprecated. In a future version, this will be treated as *label-based* indexing, consistent with e.g. `series[i]` lookups. To retain the old behavior, use `series.iloc[i:j]`. To get the future behavior, use `series.loc[i:j]`.\n",
      "  return t[start:end]\n"
     ]
    },
    {
     "name": "stdout",
     "output_type": "stream",
     "text": [
      "86/86 [==============================] - 1s 6ms/step - loss: 0.7265 - accuracy: 0.5491 - val_loss: 0.7006 - val_accuracy: 0.5272\n",
      "Epoch 2/50\n",
      "86/86 [==============================] - 0s 3ms/step - loss: 0.6726 - accuracy: 0.5678 - val_loss: 0.6764 - val_accuracy: 0.5626\n",
      "Epoch 3/50\n",
      "86/86 [==============================] - 0s 3ms/step - loss: 0.6618 - accuracy: 0.5841 - val_loss: 0.6663 - val_accuracy: 0.5508\n",
      "Epoch 4/50\n",
      "86/86 [==============================] - 0s 3ms/step - loss: 0.6592 - accuracy: 0.5818 - val_loss: 0.6815 - val_accuracy: 0.5556\n",
      "Epoch 5/50\n",
      "86/86 [==============================] - 0s 3ms/step - loss: 0.6503 - accuracy: 0.6016 - val_loss: 0.6439 - val_accuracy: 0.6052\n",
      "Epoch 6/50\n",
      "86/86 [==============================] - 0s 3ms/step - loss: 0.6443 - accuracy: 0.6133 - val_loss: 0.6508 - val_accuracy: 0.5981\n",
      "Epoch 7/50\n",
      "86/86 [==============================] - 0s 3ms/step - loss: 0.6383 - accuracy: 0.6121 - val_loss: 0.6539 - val_accuracy: 0.6099\n",
      "Epoch 8/50\n",
      "86/86 [==============================] - 0s 3ms/step - loss: 0.6365 - accuracy: 0.6320 - val_loss: 0.6355 - val_accuracy: 0.6194\n",
      "Epoch 9/50\n",
      "86/86 [==============================] - 0s 2ms/step - loss: 0.6326 - accuracy: 0.6308 - val_loss: 0.6353 - val_accuracy: 0.6147\n",
      "Epoch 10/50\n",
      "86/86 [==============================] - 0s 3ms/step - loss: 0.6310 - accuracy: 0.6273 - val_loss: 0.6351 - val_accuracy: 0.6265\n",
      "Epoch 11/50\n",
      "86/86 [==============================] - 0s 3ms/step - loss: 0.6288 - accuracy: 0.6320 - val_loss: 0.6388 - val_accuracy: 0.6076\n",
      "Epoch 12/50\n",
      "86/86 [==============================] - 0s 3ms/step - loss: 0.6298 - accuracy: 0.6227 - val_loss: 0.6318 - val_accuracy: 0.6265\n",
      "Epoch 13/50\n",
      "86/86 [==============================] - 0s 2ms/step - loss: 0.6250 - accuracy: 0.6414 - val_loss: 0.6305 - val_accuracy: 0.6241\n",
      "Epoch 14/50\n",
      "86/86 [==============================] - 0s 3ms/step - loss: 0.6241 - accuracy: 0.6367 - val_loss: 0.6354 - val_accuracy: 0.6217\n",
      "Epoch 15/50\n",
      "86/86 [==============================] - 0s 3ms/step - loss: 0.6210 - accuracy: 0.6308 - val_loss: 0.6486 - val_accuracy: 0.5981\n",
      "Epoch 16/50\n",
      "86/86 [==============================] - 0s 3ms/step - loss: 0.6239 - accuracy: 0.6437 - val_loss: 0.6400 - val_accuracy: 0.6005\n",
      "Epoch 17/50\n",
      "86/86 [==============================] - 0s 3ms/step - loss: 0.6170 - accuracy: 0.6343 - val_loss: 0.6478 - val_accuracy: 0.6241\n",
      "Epoch 18/50\n",
      "86/86 [==============================] - 0s 3ms/step - loss: 0.6244 - accuracy: 0.6343 - val_loss: 0.6222 - val_accuracy: 0.6312\n",
      "Epoch 19/50\n",
      "86/86 [==============================] - 0s 3ms/step - loss: 0.6206 - accuracy: 0.6379 - val_loss: 0.6190 - val_accuracy: 0.6336\n",
      "Epoch 20/50\n",
      "86/86 [==============================] - 0s 3ms/step - loss: 0.6163 - accuracy: 0.6390 - val_loss: 0.6167 - val_accuracy: 0.6407\n",
      "Epoch 21/50\n",
      "86/86 [==============================] - 0s 3ms/step - loss: 0.6118 - accuracy: 0.6530 - val_loss: 0.6266 - val_accuracy: 0.6265\n",
      "Epoch 22/50\n",
      "86/86 [==============================] - 0s 3ms/step - loss: 0.6128 - accuracy: 0.6343 - val_loss: 0.6100 - val_accuracy: 0.6430\n",
      "Epoch 23/50\n",
      "86/86 [==============================] - 0s 2ms/step - loss: 0.6136 - accuracy: 0.6565 - val_loss: 0.6159 - val_accuracy: 0.6430\n",
      "Epoch 24/50\n",
      "86/86 [==============================] - 0s 3ms/step - loss: 0.6141 - accuracy: 0.6530 - val_loss: 0.6070 - val_accuracy: 0.6572\n",
      "Epoch 25/50\n",
      "86/86 [==============================] - 0s 3ms/step - loss: 0.6102 - accuracy: 0.6636 - val_loss: 0.6092 - val_accuracy: 0.6525\n",
      "Epoch 26/50\n",
      "86/86 [==============================] - 0s 3ms/step - loss: 0.6095 - accuracy: 0.6530 - val_loss: 0.6080 - val_accuracy: 0.6572\n",
      "Epoch 27/50\n",
      "86/86 [==============================] - 0s 2ms/step - loss: 0.6070 - accuracy: 0.6636 - val_loss: 0.6469 - val_accuracy: 0.6478\n",
      "Epoch 28/50\n",
      "86/86 [==============================] - 0s 3ms/step - loss: 0.6082 - accuracy: 0.6624 - val_loss: 0.6199 - val_accuracy: 0.6619\n",
      "Epoch 29/50\n",
      "86/86 [==============================] - 0s 3ms/step - loss: 0.6059 - accuracy: 0.6542 - val_loss: 0.6096 - val_accuracy: 0.6809\n",
      "Epoch 30/50\n",
      "86/86 [==============================] - 0s 3ms/step - loss: 0.6078 - accuracy: 0.6612 - val_loss: 0.6178 - val_accuracy: 0.6714\n",
      "Epoch 31/50\n",
      "86/86 [==============================] - 0s 3ms/step - loss: 0.6041 - accuracy: 0.6694 - val_loss: 0.6018 - val_accuracy: 0.6714\n",
      "Epoch 32/50\n",
      "86/86 [==============================] - 0s 3ms/step - loss: 0.6008 - accuracy: 0.6717 - val_loss: 0.5971 - val_accuracy: 0.6643\n",
      "Epoch 33/50\n",
      "86/86 [==============================] - 0s 2ms/step - loss: 0.6000 - accuracy: 0.6706 - val_loss: 0.5945 - val_accuracy: 0.6714\n",
      "Epoch 34/50\n",
      "86/86 [==============================] - 0s 3ms/step - loss: 0.5971 - accuracy: 0.6694 - val_loss: 0.5955 - val_accuracy: 0.6809\n",
      "Epoch 35/50\n",
      "86/86 [==============================] - 0s 2ms/step - loss: 0.5914 - accuracy: 0.6869 - val_loss: 0.6300 - val_accuracy: 0.6596\n",
      "Epoch 36/50\n",
      "86/86 [==============================] - 0s 2ms/step - loss: 0.5947 - accuracy: 0.6869 - val_loss: 0.5853 - val_accuracy: 0.7045\n",
      "Epoch 37/50\n",
      "86/86 [==============================] - 0s 3ms/step - loss: 0.5871 - accuracy: 0.6904 - val_loss: 0.5963 - val_accuracy: 0.6903\n",
      "Epoch 38/50\n",
      "86/86 [==============================] - 0s 3ms/step - loss: 0.5884 - accuracy: 0.6904 - val_loss: 0.5873 - val_accuracy: 0.6738\n",
      "Epoch 39/50\n",
      "86/86 [==============================] - 0s 3ms/step - loss: 0.5839 - accuracy: 0.6939 - val_loss: 0.5797 - val_accuracy: 0.7139\n",
      "Epoch 40/50\n",
      "86/86 [==============================] - 0s 2ms/step - loss: 0.5787 - accuracy: 0.6998 - val_loss: 0.6095 - val_accuracy: 0.6950\n",
      "Epoch 41/50\n",
      "86/86 [==============================] - 0s 3ms/step - loss: 0.5790 - accuracy: 0.6974 - val_loss: 0.5711 - val_accuracy: 0.7116\n",
      "Epoch 42/50\n",
      "86/86 [==============================] - 0s 2ms/step - loss: 0.5811 - accuracy: 0.6928 - val_loss: 0.5701 - val_accuracy: 0.7092\n",
      "Epoch 43/50\n",
      "86/86 [==============================] - 0s 3ms/step - loss: 0.5737 - accuracy: 0.7079 - val_loss: 0.5796 - val_accuracy: 0.7139\n",
      "Epoch 44/50\n",
      "86/86 [==============================] - 0s 3ms/step - loss: 0.5734 - accuracy: 0.6986 - val_loss: 0.6053 - val_accuracy: 0.6832\n",
      "Epoch 45/50\n",
      "86/86 [==============================] - 0s 2ms/step - loss: 0.5776 - accuracy: 0.6811 - val_loss: 0.5691 - val_accuracy: 0.7210\n",
      "Epoch 46/50\n",
      "86/86 [==============================] - 0s 3ms/step - loss: 0.5754 - accuracy: 0.7044 - val_loss: 0.5649 - val_accuracy: 0.7400\n",
      "Epoch 47/50\n",
      "86/86 [==============================] - 0s 3ms/step - loss: 0.5694 - accuracy: 0.7161 - val_loss: 0.5483 - val_accuracy: 0.7447\n",
      "Epoch 48/50\n",
      "86/86 [==============================] - 0s 3ms/step - loss: 0.5719 - accuracy: 0.7114 - val_loss: 0.5323 - val_accuracy: 0.7400\n",
      "Epoch 49/50\n",
      "86/86 [==============================] - 0s 3ms/step - loss: 0.5636 - accuracy: 0.7150 - val_loss: 0.5639 - val_accuracy: 0.7352\n",
      "Epoch 50/50\n",
      "86/86 [==============================] - 0s 3ms/step - loss: 0.5644 - accuracy: 0.7150 - val_loss: 0.5547 - val_accuracy: 0.7494\n"
     ]
    }
   ],
   "source": [
    "model_history=model.fit(X_train,y_train,validation_split=0.33,batch_size=10,epochs=50)"
   ]
  },
  {
   "cell_type": "code",
   "execution_count": 19,
   "id": "cb93defb-62d9-4241-8138-3ae992cc66ee",
   "metadata": {},
   "outputs": [
    {
     "data": {
      "text/plain": [
       "dict_keys(['loss', 'accuracy', 'val_loss', 'val_accuracy'])"
      ]
     },
     "execution_count": 19,
     "metadata": {},
     "output_type": "execute_result"
    }
   ],
   "source": [
    "model_history.history.keys()"
   ]
  },
  {
   "cell_type": "code",
   "execution_count": 34,
   "id": "b2c48c66-5867-441d-857d-099ff8d7edc5",
   "metadata": {},
   "outputs": [
    {
     "data": {
      "image/png": "[encoded data removed]",
      "text/plain": [
       "<Figure size 640x480 with 1 Axes>"
      ]
     },
     "metadata": {},
     "output_type": "display_data"
    },
    {
     "data": {
      "image/png": "[encoded data removed]",
      "text/plain": [
       "<Figure size 640x480 with 1 Axes>"
      ]
     },
     "metadata": {},
     "output_type": "display_data"
    }
   ],
   "source": [
    "import matplotlib.pyplot as plt\n",
    "\n",
    "# Plot training and validation accuracy\n",
    "plt.plot(model_history.history['accuracy'], label='Training Accuracy')\n",
    "plt.plot(model_history.history['val_accuracy'], label='Validation Accuracy')\n",
    "plt.xlabel('Epochs')\n",
    "plt.ylabel('Accuracy')\n",
    "plt.legend()\n",
    "plt.show()\n",
    "\n",
    "# Plot training and validation loss\n",
    "plt.plot(model_history.history['loss'], label='Training Loss')\n",
    "plt.plot(model_history.history['val_loss'], label='Validation Loss')\n",
    "plt.xlabel('Epochs')\n",
    "plt.ylabel('Loss')\n",
    "plt.legend()\n",
    "plt.show()\n"
   ]
  },
  {
   "cell_type": "code",
   "execution_count": 23,
   "id": "fe9eae1d-2e2d-4318-a488-996a91971430",
   "metadata": {},
   "outputs": [
    {
     "data": {
      "text/plain": [
       "<AxesSubplot: >"
      ]
     },
     "execution_count": 23,
     "metadata": {},
     "output_type": "execute_result"
    },
    {
     "data": {
      "image/png": "[encoded data removed]",
      "text/plain": [
       "<Figure size 640x480 with 1 Axes>"
      ]
     },
     "metadata": {},
     "output_type": "display_data"
    }
   ],
   "source": [
    "pd.DataFrame(model_history.history).plot()"
   ]
  },
  {
   "cell_type": "code",
   "execution_count": 24,
   "id": "4c99cc87-e93e-403b-afba-c6ccd38e24ad",
   "metadata": {},
   "outputs": [
    {
     "name": "stdout",
     "output_type": "stream",
     "text": [
      "10/10 [==============================] - 0s 2ms/step\n"
     ]
    }
   ],
   "source": [
    "# making the predictions and evaluating the model\n",
    "# predicting the test set results\n",
    "y_pred=model.predict(X_test)\n",
    "y_pred= (y_pred>=0.5)"
   ]
  },
  {
   "cell_type": "code",
   "execution_count": 25,
   "id": "40e6a628-4539-48df-8a0b-9fc98e69227f",
   "metadata": {},
   "outputs": [
    {
     "data": {
      "text/plain": [
       "array([[106,  35],\n",
       "       [ 57, 122]])"
      ]
     },
     "execution_count": 25,
     "metadata": {},
     "output_type": "execute_result"
    }
   ],
   "source": [
    "# make the confusion matricx\n",
    "from sklearn.metrics import confusion_matrix\n",
    "cm=confusion_matrix(y_test,y_pred)\n",
    "cm"
   ]
  },
  {
   "cell_type": "code",
   "execution_count": 26,
   "id": "c860707b-39fd-4be5-8294-cd194f2f9f8e",
   "metadata": {},
   "outputs": [],
   "source": [
    "## calculate the accuracy\n",
    "from sklearn.metrics import accuracy_score\n",
    "score=accuracy_score(y_pred,y_test)"
   ]
  },
  {
   "cell_type": "code",
   "execution_count": 28,
   "id": "a491ac0e-e156-4100-8d97-bd815f3a5153",
   "metadata": {},
   "outputs": [
    {
     "data": {
      "text/plain": [
       "71.25"
      ]
     },
     "execution_count": 28,
     "metadata": {},
     "output_type": "execute_result"
    }
   ],
   "source": [
    "score*100"
   ]
  },
  {
   "cell_type": "code",
   "execution_count": 30,
   "id": "dab128dc-a62f-4cc6-bee3-5b8b4d4bc7cd",
   "metadata": {},
   "outputs": [
    {
     "data": {
      "text/plain": [
       "[array([[ 0.4179994 , -0.22016573, -0.03969207, -0.34679595,  0.01330614,\n",
       "          0.39527974, -0.33362365,  0.35782427,  0.2532968 , -0.2212882 ,\n",
       "          0.16463876],\n",
       "        [-0.47748467, -0.15265566,  1.2877164 ,  0.08292632, -1.1051611 ,\n",
       "          0.33711043,  0.13622856,  0.46663302, -0.5833595 ,  0.3452382 ,\n",
       "          0.42366165],\n",
       "        [-0.2303897 ,  0.06386723,  0.08078764,  0.3985911 ,  0.12764129,\n",
       "         -0.5462112 ,  0.49664527, -0.46030328, -0.00683702, -0.0083077 ,\n",
       "         -0.87537485],\n",
       "        [ 0.31066418,  0.4851026 ,  0.43259218, -0.06581289,  0.33998337,\n",
       "         -0.1501149 ,  0.2709549 , -0.13424417, -0.36186135,  0.4094398 ,\n",
       "          0.21267854],\n",
       "        [ 0.25621384,  0.17473824, -0.11727323,  0.8338266 ,  0.15448394,\n",
       "         -0.14701475,  0.16928089,  0.43410152, -0.7105829 ,  0.30039936,\n",
       "          0.7080228 ],\n",
       "        [ 0.21479376,  0.21792032, -0.54635614, -0.19440952, -0.16082649,\n",
       "         -0.36941233, -0.0466544 , -0.5182319 , -0.31162304,  0.0314337 ,\n",
       "         -0.2087551 ],\n",
       "        [-0.4726541 , -0.3941767 ,  0.43112728,  0.2784594 ,  0.27454883,\n",
       "         -0.20045736, -0.3317114 ,  0.1942549 ,  0.36473763, -0.27136165,\n",
       "          0.44522032],\n",
       "        [-0.51837474,  0.16242056,  0.05018734,  0.48478636, -0.44643602,\n",
       "          0.35796744, -0.48173892,  0.32223883, -0.53547186,  0.31971163,\n",
       "          0.7000716 ],\n",
       "        [-0.22804917, -0.00307729,  0.44315547, -0.37916124, -0.599364  ,\n",
       "          0.10345379,  0.17858326,  0.30579764, -0.6044696 ,  0.17413586,\n",
       "          0.43691206],\n",
       "        [-0.53713465,  0.30269817, -0.24350125, -0.5454362 ,  0.26663074,\n",
       "         -0.21131623,  0.4684958 ,  0.12139973,  0.9845782 , -0.41121942,\n",
       "         -0.08143205],\n",
       "        [-0.15893912,  0.20111394,  0.25116876, -0.6374345 ,  0.3409613 ,\n",
       "          0.2162595 , -0.51667744, -0.08745041,  0.5231762 , -0.3750834 ,\n",
       "         -0.4114551 ]], dtype=float32),\n",
       " array([-0.01629647,  0.02738514,  0.22748196, -0.0151316 , -0.23039833,\n",
       "         0.04018256,  0.        ,  0.18920222, -0.26239914,  0.        ,\n",
       "         0.22240475], dtype=float32),\n",
       " array([[ 0.12708491,  0.46285588,  0.07146583,  0.2568454 ,  0.40338498,\n",
       "          0.08980662, -0.10403457],\n",
       "        [-0.06087511, -0.11522069, -0.39235887, -0.67391014,  0.35951978,\n",
       "          0.33551174, -0.3213901 ],\n",
       "        [ 0.0940173 , -0.54409117, -0.30856776,  0.360405  ,  0.06651994,\n",
       "         -0.23695624, -0.29890394],\n",
       "        [ 0.3335661 ,  0.03354533, -0.0543924 ,  0.295091  , -0.13203856,\n",
       "          0.3738054 ,  0.39888412],\n",
       "        [-0.21692935, -0.07656676,  0.6696425 ,  0.27986506,  0.16159788,\n",
       "          0.3774168 , -0.33215353],\n",
       "        [-0.16028796,  0.4348284 , -0.2604987 , -0.15898761, -0.33488014,\n",
       "          0.35050365,  0.4666413 ],\n",
       "        [ 0.13315862,  0.04871744, -0.21340218,  0.19888592, -0.00713718,\n",
       "         -0.3190302 , -0.47028694],\n",
       "        [-0.35004646, -0.14674142, -0.01748978,  0.39930096,  0.01299146,\n",
       "          0.0665245 , -0.09767195],\n",
       "        [ 0.5495141 ,  0.26980516,  0.4706056 , -0.37238652,  0.15193646,\n",
       "         -0.29124683, -0.57358056],\n",
       "        [ 0.3289349 ,  0.17831218,  0.02375954, -0.17284483,  0.48202705,\n",
       "          0.5232606 , -0.43670684],\n",
       "        [-0.44464898,  0.32731494, -0.52565646,  0.03500121, -0.0172918 ,\n",
       "         -0.50903463,  0.53519917]], dtype=float32),\n",
       " array([-0.04574366,  0.06594981, -0.22202472,  0.25358915, -0.25860998,\n",
       "        -0.01822563,  0.03348387], dtype=float32),\n",
       " array([[ 0.39923325],\n",
       "        [-0.15306151],\n",
       "        [ 0.82862496],\n",
       "        [-0.11793396],\n",
       "        [ 0.08999153],\n",
       "        [ 0.5517556 ],\n",
       "        [ 0.11893103]], dtype=float32),\n",
       " array([-0.27496842], dtype=float32)]"
      ]
     },
     "execution_count": 30,
     "metadata": {},
     "output_type": "execute_result"
    }
   ],
   "source": [
    "model.get_weights()"
   ]
  },
  {
   "cell_type": "code",
   "execution_count": null,
   "id": "f019bdd3-5d56-48fb-8879-3da7282d9e48",
   "metadata": {},
   "outputs": [],
   "source": []
  }
 ],
 "metadata": {
  "kernelspec": {
   "display_name": "Python 3 (ipykernel)",
   "language": "python",
   "name": "python3"
  },
  "language_info": {
   "codemirror_mode": {
    "name": "ipython",
    "version": 3
   },
   "file_extension": ".py",
   "mimetype": "text/x-python",
   "name": "python",
   "nbconvert_exporter": "python",
   "pygments_lexer": "ipython3",
   "version": "3.10.8"
  }
 },
 "nbformat": 4,
 "nbformat_minor": 5
}
